{
 "cells": [
  {
   "cell_type": "code",
   "execution_count": 1,
   "id": "d9786cda-5071-4fa4-8a31-736827c5c416",
   "metadata": {},
   "outputs": [],
   "source": [
    "import mysql.connector"
   ]
  },
  {
   "cell_type": "code",
   "execution_count": 2,
   "id": "a30fb8e3-8622-4003-afb2-82c4a0c7d747",
   "metadata": {},
   "outputs": [],
   "source": [
    "mydb=mysql.connector.connect(\n",
    "    host=\"localhost\",\n",
    "    user=\"root\",\n",
    "    password=\"Naseem123\",\n",
    "    database=\"task\"\n",
    ")"
   ]
  },
  {
   "cell_type": "code",
   "execution_count": 3,
   "id": "b48bb538-9401-4773-964d-5d8984919a5a",
   "metadata": {},
   "outputs": [
    {
     "name": "stdout",
     "output_type": "stream",
     "text": [
      "('Samsung Galaxy M21', 14999.0, 'amazon')\n",
      "('OppoA31', 12490.0, 'amazon')\n",
      "('Samsung Galaxy M30', 6999.0, 'amazon')\n",
      "('Samsung Galaxy M21', 14999.0, 'flipkart')\n",
      "('OPPO A31', 11499.0, 'flipkart')\n"
     ]
    }
   ],
   "source": [
    "cursor=mydb.cursor()\n",
    "cursor.execute(\"SELECT * FROM list1\")\n",
    "myresult = cursor.fetchall()\n",
    "for x in myresult:\n",
    "    print (x)"
   ]
  },
  {
   "cell_type": "code",
   "execution_count": 7,
   "id": "841b0a13-a292-429a-95ca-d31489fac644",
   "metadata": {},
   "outputs": [
    {
     "name": "stdin",
     "output_type": "stream",
     "text": [
      "enter your choice galaxy\n"
     ]
    }
   ],
   "source": [
    "choice=input(\"enter your choice\")"
   ]
  },
  {
   "cell_type": "code",
   "execution_count": 9,
   "id": "8d69e648-bc6c-4180-9f3a-97fecb5e32e2",
   "metadata": {},
   "outputs": [
    {
     "name": "stdout",
     "output_type": "stream",
     "text": [
      "amazon\n",
      "Samsung Galaxy M21 -Rs 14999.0\n",
      "amazon\n",
      "Samsung Galaxy M30 -Rs 6999.0\n",
      "flipkart\n",
      "Samsung Galaxy M21 -Rs 14999.0\n"
     ]
    }
   ],
   "source": [
    "cursor.execute(\"SELECT * FROM list1 WHERE Name like (%s)\", ('%'+choice+'%',))\n",
    "result = cursor.fetchall()\n",
    "#for website in result:\n",
    "#print (#website)\n",
    "for name,price,website in result:\n",
    "    print (website)\n",
    "    print(name,\"-Rs\",price)"
   ]
  },
  {
   "cell_type": "code",
   "execution_count": null,
   "id": "587efe32-49b5-447d-a08f-a91b55fbda0b",
   "metadata": {},
   "outputs": [],
   "source": []
  }
 ],
 "metadata": {
  "kernelspec": {
   "display_name": "Python 3 (ipykernel)",
   "language": "python",
   "name": "python3"
  },
  "language_info": {
   "codemirror_mode": {
    "name": "ipython",
    "version": 3
   },
   "file_extension": ".py",
   "mimetype": "text/x-python",
   "name": "python",
   "nbconvert_exporter": "python",
   "pygments_lexer": "ipython3",
   "version": "3.12.3"
  }
 },
 "nbformat": 4,
 "nbformat_minor": 5
}
